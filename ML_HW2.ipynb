{
  "cells": [
    {
      "cell_type": "code",
      "execution_count": null,
      "metadata": {
        "colab": {
          "base_uri": "https://localhost:8080/"
        },
        "id": "VDb7fZe7dUgy",
        "outputId": "19025a2a-10a2-48d7-f21c-545aa1299611"
      },
      "outputs": [
        {
          "data": {
            "text/plain": [
              "dict_keys(['data', 'target', 'frame', 'categories', 'feature_names', 'target_names', 'DESCR', 'details', 'url'])"
            ]
          },
          "execution_count": 30,
          "metadata": {},
          "output_type": "execute_result"
        }
      ],
      "source": [
        "from sklearn.datasets import fetch_openml\n",
        "mnist = fetch_openml('mnist_784' , version=1, as_frame=False)\n",
        "mnist.keys()"
      ]
    },
    {
      "cell_type": "code",
      "execution_count": null,
      "metadata": {
        "colab": {
          "base_uri": "https://localhost:8080/"
        },
        "id": "Tbx92Mkcyt8E",
        "outputId": "3a6861ea-5bdc-41cb-f925-b00009ccb10b"
      },
      "outputs": [
        {
          "data": {
            "text/plain": [
              "(70000, 784)"
            ]
          },
          "execution_count": 31,
          "metadata": {},
          "output_type": "execute_result"
        }
      ],
      "source": [
        "X, y = mnist[\"data\"], mnist[\"target\"]\n",
        "X.shape\n",
        "\n"
      ]
    },
    {
      "cell_type": "code",
      "execution_count": null,
      "metadata": {
        "colab": {
          "base_uri": "https://localhost:8080/"
        },
        "id": "gpt0Wkg12j_M",
        "outputId": "ab89697c-0cd0-4791-a326-ea9bb21d7f34"
      },
      "outputs": [
        {
          "data": {
            "text/plain": [
              "(70000,)"
            ]
          },
          "execution_count": 32,
          "metadata": {},
          "output_type": "execute_result"
        }
      ],
      "source": [
        "y.shape"
      ]
    },
    {
      "cell_type": "code",
      "execution_count": null,
      "metadata": {
        "colab": {
          "base_uri": "https://localhost:8080/",
          "height": 248
        },
        "id": "u3fhc2B0zrRZ",
        "outputId": "47044aca-1f92-4024-cb21-e4e088cda99b"
      },
      "outputs": [
        {
          "data": {
            "image/png": "[encoded data removed]",
            "text/plain": [
              "<Figure size 432x288 with 1 Axes>"
            ]
          },
          "metadata": {},
          "output_type": "display_data"
        }
      ],
      "source": [
        "import matplotlib as mpl\n",
        "import matplotlib.pyplot as plt\n",
        "some_digit = X[3]\n",
        "some_digit_image = some_digit.reshape(28, 28)\n",
        "plt.imshow(some_digit_image, cmap=\"binary\")\n",
        "plt.axis(\"off\")\n",
        "plt.show()\n"
      ]
    },
    {
      "cell_type": "code",
      "execution_count": null,
      "metadata": {
        "colab": {
          "base_uri": "https://localhost:8080/",
          "height": 35
        },
        "id": "BOAyyqEo3nvk",
        "outputId": "6bcf8fe4-b702-470b-91e3-11753e22eed2"
      },
      "outputs": [
        {
          "data": {
            "application/vnd.google.colaboratory.intrinsic+json": {
              "type": "string"
            },
            "text/plain": [
              "'1'"
            ]
          },
          "execution_count": 34,
          "metadata": {},
          "output_type": "execute_result"
        }
      ],
      "source": [
        "y[3]"
      ]
    },
    {
      "cell_type": "code",
      "execution_count": null,
      "metadata": {
        "id": "vVcQyxl00AFx"
      },
      "outputs": [],
      "source": [
        "import numpy as np\n",
        "np.random.seed(42)\n",
        "X_train, X_test, y_train, y_test = train_test_split(X, y, test_size=10000, random_state=42)"
      ]
    },
    {
      "cell_type": "code",
      "execution_count": null,
      "metadata": {
        "colab": {
          "base_uri": "https://localhost:8080/"
        },
        "id": "7cmKtJg60thc",
        "outputId": "1aa4ef4b-1ebc-49a2-c056-15a354eb9905"
      },
      "outputs": [
        {
          "data": {
            "text/plain": [
              "array([ True])"
            ]
          },
          "execution_count": 36,
          "metadata": {},
          "output_type": "execute_result"
        }
      ],
      "source": [
        "from sklearn.linear_model import SGDClassifier\n",
        "sgd_clf = SGDClassifier(random_state=42)\n",
        "sgd_clf.fit(X_train, y_train_1)\n",
        "sgd_clf.predict([some_digit])"
      ]
    },
    {
      "cell_type": "code",
      "execution_count": null,
      "metadata": {
        "colab": {
          "base_uri": "https://localhost:8080/"
        },
        "id": "HGbugiks8wLK",
        "outputId": "b7e0bd4a-83b0-4a15-b471-fb1e041c4a3c"
      },
      "outputs": [
        {
          "name": "stdout",
          "output_type": "stream",
          "text": [
            "0.98845\n",
            "0.98695\n",
            "0.9851\n"
          ]
        }
      ],
      "source": [
        "from sklearn.model_selection import StratifiedKFold\n",
        "from sklearn.base import clone\n",
        "skfolds = StratifiedKFold(n_splits=3, shuffle=True, random_state=42)\n",
        "for train_index, test_index in skfolds.split(X_train, y_train_1):\n",
        " clone_clf = clone(sgd_clf)\n",
        " X_train_folds = X_train[train_index]\n",
        " y_train_folds = y_train_1[train_index]\n",
        " X_test_fold = X_train[test_index]\n",
        " y_test_fold = y_train_1[test_index]\n",
        " clone_clf.fit(X_train_folds, y_train_folds)\n",
        " y_pred = clone_clf.predict(X_test_fold)\n",
        " n_correct = sum(y_pred == y_test_fold)\n",
        " print(n_correct / len(y_pred)) "
      ]
    },
    {
      "cell_type": "code",
      "execution_count": null,
      "metadata": {
        "colab": {
          "base_uri": "https://localhost:8080/"
        },
        "id": "jAphJ2cn9xCM",
        "outputId": "4f61e931-ac0d-4cf8-fb5c-ed6f2802815d"
      },
      "outputs": [
        {
          "data": {
            "text/plain": [
              "array([0.9878 , 0.98095, 0.99005])"
            ]
          },
          "execution_count": 38,
          "metadata": {},
          "output_type": "execute_result"
        }
      ],
      "source": [
        " from sklearn.model_selection import cross_val_score\n",
        "cross_val_score(sgd_clf, X_train, y_train_1, cv=3, scoring=\"accuracy\")"
      ]
    },
    {
      "cell_type": "code",
      "execution_count": null,
      "metadata": {
        "id": "-AeK11iz-GI9"
      },
      "outputs": [],
      "source": [
        "from sklearn.base import BaseEstimator\n",
        "class Never1Classifier(BaseEstimator):\n",
        " def fit(self, X, y=None):\n",
        "     return self\n",
        " def predict(self, X):\n",
        "     return np.zeros((len(X), 1), dtype=bool)"
      ]
    },
    {
      "cell_type": "code",
      "execution_count": null,
      "metadata": {
        "colab": {
          "base_uri": "https://localhost:8080/"
        },
        "id": "D9EEYsAB-QZF",
        "outputId": "c77bea8f-eee7-40a6-aa84-36ee442b867e"
      },
      "outputs": [
        {
          "data": {
            "text/plain": [
              "array([0.88595, 0.8859 , 0.89105])"
            ]
          },
          "execution_count": 40,
          "metadata": {},
          "output_type": "execute_result"
        }
      ],
      "source": [
        " never_1_clf = Never1Classifier()\n",
        "cross_val_score(never_1_clf, X_train, y_train_1, cv=3, scoring=\"accuracy\")"
      ]
    },
    {
      "cell_type": "code",
      "execution_count": null,
      "metadata": {
        "id": "7DBo-dRu-hKS"
      },
      "outputs": [],
      "source": [
        "from sklearn.model_selection import cross_val_predict\n",
        "y_train_pred = cross_val_predict(sgd_clf, X_train, y_train_1, cv=3)"
      ]
    },
    {
      "cell_type": "code",
      "execution_count": null,
      "metadata": {
        "colab": {
          "base_uri": "https://localhost:8080/"
        },
        "id": "eqeOAtNx-zzQ",
        "outputId": "9cac6297-3d67-4793-f7e2-965a2d7eed9a"
      },
      "outputs": [
        {
          "data": {
            "text/plain": [
              "array([[52917,   341],\n",
              "       [  483,  6259]])"
            ]
          },
          "execution_count": 42,
          "metadata": {},
          "output_type": "execute_result"
        }
      ],
      "source": [
        "from sklearn.metrics import confusion_matrix\n",
        "confusion_matrix(y_train_1, y_train_pred)"
      ]
    },
    {
      "cell_type": "code",
      "execution_count": null,
      "metadata": {
        "colab": {
          "base_uri": "https://localhost:8080/"
        },
        "id": "kGAFYyP1-9_F",
        "outputId": "e32ec372-a63c-4e51-dff8-7b072e7f9128"
      },
      "outputs": [
        {
          "data": {
            "text/plain": [
              "array([[53258,     0],\n",
              "       [    0,  6742]])"
            ]
          },
          "execution_count": 43,
          "metadata": {},
          "output_type": "execute_result"
        }
      ],
      "source": [
        "y_train_perfect_predictions = y_train_1\n",
        "confusion_matrix(y_train_1, y_train_perfect_predictions)"
      ]
    },
    {
      "cell_type": "code",
      "execution_count": null,
      "metadata": {
        "colab": {
          "base_uri": "https://localhost:8080/"
        },
        "id": "oiTQPNmx_51D",
        "outputId": "d64f8f02-bd97-4f27-f976-43dd71f12188"
      },
      "outputs": [
        {
          "data": {
            "text/plain": [
              "0.9483333333333334"
            ]
          },
          "execution_count": 44,
          "metadata": {},
          "output_type": "execute_result"
        }
      ],
      "source": [
        "from sklearn.metrics import precision_score, recall_score\n",
        "precision_score(y_train_1, y_train_pred) # == 6420/(6420+364)"
      ]
    },
    {
      "cell_type": "code",
      "execution_count": null,
      "metadata": {
        "colab": {
          "base_uri": "https://localhost:8080/"
        },
        "id": "Igs0pnn9AeFH",
        "outputId": "2f4a6f96-7d00-4654-d948-f96f5d08d405"
      },
      "outputs": [
        {
          "data": {
            "text/plain": [
              "0.9283595372293089"
            ]
          },
          "execution_count": 45,
          "metadata": {},
          "output_type": "execute_result"
        }
      ],
      "source": [
        "recall_score(y_train_1, y_train_pred) # TP/TP+FN #6420/6420+322"
      ]
    },
    {
      "cell_type": "code",
      "execution_count": null,
      "metadata": {
        "colab": {
          "base_uri": "https://localhost:8080/"
        },
        "id": "uceJQFnNFrYq",
        "outputId": "02cdb6ff-d480-420f-ac6a-c191eab52ca5"
      },
      "outputs": [
        {
          "data": {
            "text/plain": [
              "0.9382401439064609"
            ]
          },
          "execution_count": 46,
          "metadata": {},
          "output_type": "execute_result"
        }
      ],
      "source": [
        "from sklearn.metrics import f1_score\n",
        "f1_score(y_train_1, y_train_pred)"
      ]
    },
    {
      "cell_type": "code",
      "execution_count": null,
      "metadata": {
        "colab": {
          "base_uri": "https://localhost:8080/"
        },
        "id": "Hn-hFKfHGDfl",
        "outputId": "72f62534-f5e0-4da7-de21-83bf093bf23f"
      },
      "outputs": [
        {
          "data": {
            "text/plain": [
              "array([9449.95787804])"
            ]
          },
          "execution_count": 47,
          "metadata": {},
          "output_type": "execute_result"
        }
      ],
      "source": [
        "y_scores = sgd_clf.decision_function([some_digit])\n",
        "y_scores"
      ]
    },
    {
      "cell_type": "code",
      "execution_count": null,
      "metadata": {
        "colab": {
          "base_uri": "https://localhost:8080/"
        },
        "id": "39qKdcrtGHU4",
        "outputId": "5ddb203a-b560-4c2a-8f9a-701801b0f4d3"
      },
      "outputs": [
        {
          "data": {
            "text/plain": [
              "array([ True])"
            ]
          },
          "execution_count": 48,
          "metadata": {},
          "output_type": "execute_result"
        }
      ],
      "source": [
        "threshold = 0\n",
        "y_some_digit_pred = (y_scores > threshold)\n",
        "y_some_digit_pred"
      ]
    },
    {
      "cell_type": "code",
      "execution_count": null,
      "metadata": {
        "colab": {
          "base_uri": "https://localhost:8080/"
        },
        "id": "18eQHVCMGJ7a",
        "outputId": "bac901d0-c12a-4397-f432-b836289e70e2"
      },
      "outputs": [
        {
          "data": {
            "text/plain": [
              "array([ True])"
            ]
          },
          "execution_count": 49,
          "metadata": {},
          "output_type": "execute_result"
        }
      ],
      "source": [
        "threshold = 9000\n",
        "y_some_digit_pred = (y_scores > threshold)\n",
        "y_some_digit_pred"
      ]
    },
    {
      "cell_type": "code",
      "execution_count": null,
      "metadata": {
        "id": "OwuDlGkuJ_nu"
      },
      "outputs": [],
      "source": [
        "y_scores = cross_val_predict(sgd_clf, X_train, y_train_1, cv=3,method=\"decision_function\")"
      ]
    },
    {
      "cell_type": "code",
      "execution_count": null,
      "metadata": {
        "id": "1M21-atuIjCR"
      },
      "outputs": [],
      "source": [
        "from sklearn.metrics import precision_recall_curve\n",
        "precisions, recalls, thresholds = precision_recall_curve(y_train_1, y_scores)\n"
      ]
    },
    {
      "cell_type": "code",
      "execution_count": null,
      "metadata": {
        "colab": {
          "base_uri": "https://localhost:8080/",
          "height": 288
        },
        "id": "IwCkl3QbKXSB",
        "outputId": "85abad84-b537-4459-bbbc-3fcb5c338738"
      },
      "outputs": [
        {
          "data": {
            "image/png": "[encoded data removed]",
            "text/plain": [
              "<Figure size 576x288 with 1 Axes>"
            ]
          },
          "metadata": {},
          "output_type": "display_data"
        }
      ],
      "source": [
        "\n",
        "def plot_precision_recall_vs_threshold(precisions, recalls, thresholds): \n",
        "  plt.plot(thresholds, precisions[:-1], \"b--\", label=\"Precision\") \n",
        "  plt.plot(thresholds, recalls[:-1], \"g-\", label=\"Recall\" , linewidth=2)\n",
        "  # plt.legend(loc=\"center right\", fontsize=16) \n",
        "  plt.xlabel(\"Threshold\", fontsize=16)        \n",
        "  plt.grid(True)                              \n",
        "  plt.axis([-50000, 50000, 0, 1])   \n",
        "\n",
        "recall_90_precision = recalls[np.argmax(precisions >= 0.90)]\n",
        "threshold_90_precision = thresholds[np.argmax(precisions >= 0.90)]\n",
        "\n",
        "\n",
        "plt.figure(figsize=(8, 4))                                                                  \n",
        "plot_precision_recall_vs_threshold(precisions, recalls, thresholds)\n",
        "plt.plot([threshold_90_precision, threshold_90_precision], [0., 0.9], \"r:\")                \n",
        "plt.plot([-50000, threshold_90_precision], [0.9, 0.9], \"r:\")                               \n",
        "plt.plot([-50000, threshold_90_precision], [recall_90_precision, recall_90_precision], \"r:\")\n",
        "plt.plot([threshold_90_precision], [0.9], \"ro\")                                            \n",
        "plt.plot([threshold_90_precision], [recall_90_precision], \"ro\")                             \n",
        "\n",
        "plot_precision_recall_vs_threshold(precisions, recalls, thresholds)\n",
        "plt.show()"
      ]
    },
    {
      "cell_type": "code",
      "execution_count": null,
      "metadata": {
        "id": "lPWH2YRUIh3z"
      },
      "outputs": [],
      "source": [
        "threshold_90_precision = thresholds[np.argmax(precisions >= 0.90)] "
      ]
    },
    {
      "cell_type": "code",
      "execution_count": null,
      "metadata": {
        "id": "ROP9hWSTI0zf"
      },
      "outputs": [],
      "source": [
        "y_train_pred_90 = (y_scores >= threshold_90_precision)"
      ]
    },
    {
      "cell_type": "code",
      "execution_count": null,
      "metadata": {
        "colab": {
          "base_uri": "https://localhost:8080/"
        },
        "id": "T5Pmj41nI3ZY",
        "outputId": "f91ecde0-e522-4178-f1b3-20837be1675a"
      },
      "outputs": [
        {
          "data": {
            "text/plain": [
              "0.9000961934863267"
            ]
          },
          "execution_count": 55,
          "metadata": {},
          "output_type": "execute_result"
        }
      ],
      "source": [
        "precision_score(y_train_1, y_train_pred_90)"
      ]
    },
    {
      "cell_type": "code",
      "execution_count": null,
      "metadata": {
        "colab": {
          "base_uri": "https://localhost:8080/"
        },
        "id": "bGvkgkR_JAPz",
        "outputId": "cbdf3e53-eec3-4d1a-bdd2-9fc939ff1f53"
      },
      "outputs": [
        {
          "data": {
            "text/plain": [
              "0.9715218036191041"
            ]
          },
          "execution_count": 56,
          "metadata": {},
          "output_type": "execute_result"
        }
      ],
      "source": [
        "recall_score(y_train_1, y_train_pred_90)"
      ]
    },
    {
      "cell_type": "code",
      "execution_count": null,
      "metadata": {
        "id": "PUxj7nb1JDVL"
      },
      "outputs": [],
      "source": [
        "from sklearn.metrics import roc_curve\n",
        "fpr, tpr, thresholds = roc_curve(y_train_1, y_scores)"
      ]
    },
    {
      "cell_type": "code",
      "execution_count": null,
      "metadata": {
        "colab": {
          "base_uri": "https://localhost:8080/",
          "height": 397
        },
        "id": "X57TxF_ZJNF6",
        "outputId": "f6f15f4a-33c7-46b1-91b7-705bf9334ff8"
      },
      "outputs": [
        {
          "data": {
            "image/png": "[encoded data removed]",
            "text/plain": [
              "<Figure size 576x432 with 1 Axes>"
            ]
          },
          "metadata": {},
          "output_type": "display_data"
        }
      ],
      "source": [
        "def plot_roc_curve(fpr, tpr, label=None):\n",
        "    plt.plot(fpr, tpr, linewidth=2, label=label)\n",
        "    plt.plot([0, 1], [0, 1], 'k--') # dashed diagonal\n",
        "    plt.axis([0, 1, 0, 1])                                    \n",
        "    plt.xlabel('False Positive Rate (Fall-Out)', fontsize=16) \n",
        "    plt.ylabel('True Positive Rate (Recall)', fontsize=16)   \n",
        "    plt.grid(True)                                            \n",
        "\n",
        "plt.figure(figsize=(8, 6))                                    \n",
        "plot_roc_curve(fpr, tpr)\n",
        "fpr_90 = fpr[np.argmax(tpr >= recall_90_precision)]           \n",
        "plt.plot([fpr_90, fpr_90], [0., recall_90_precision], \"r:\")   \n",
        "plt.plot([0.0, fpr_90], [recall_90_precision, recall_90_precision], \"r:\")  \n",
        "plt.plot([fpr_90], [recall_90_precision], \"ro\")       \n",
        "\n",
        "plot_roc_curve(fpr, tpr)\n",
        "plt.show()"
      ]
    },
    {
      "cell_type": "code",
      "execution_count": null,
      "metadata": {
        "colab": {
          "base_uri": "https://localhost:8080/"
        },
        "id": "aVQopfQjJysK",
        "outputId": "8d8a40f6-f89d-4cbe-850f-f37956719478"
      },
      "outputs": [
        {
          "data": {
            "text/plain": [
              "0.9966048806769584"
            ]
          },
          "execution_count": 59,
          "metadata": {},
          "output_type": "execute_result"
        }
      ],
      "source": [
        "from sklearn.metrics import roc_auc_score \n",
        "roc_auc_score(y_train_1, y_scores)"
      ]
    },
    {
      "cell_type": "code",
      "execution_count": null,
      "metadata": {
        "id": "4mBMX4ftJ6Je"
      },
      "outputs": [],
      "source": [
        "from sklearn.ensemble import RandomForestClassifier\n",
        "forest_clf = RandomForestClassifier(random_state=42)\n",
        "y_probas_forest = cross_val_predict(forest_clf, X_train, y_train_1, cv=3,method=\"predict_proba\")"
      ]
    },
    {
      "cell_type": "code",
      "execution_count": null,
      "metadata": {
        "id": "ZAvDm7rKKKLE"
      },
      "outputs": [],
      "source": [
        "y_scores_forest = y_probas_forest[:, 1] \n",
        "fpr_forest, tpr_forest, thresholds_forest = roc_curve(y_train_1,y_scores_forest)\n"
      ]
    },
    {
      "cell_type": "code",
      "execution_count": null,
      "metadata": {
        "colab": {
          "base_uri": "https://localhost:8080/",
          "height": 288
        },
        "id": "75uRYkVGKQor",
        "outputId": "8afc7a38-b777-4874-d8de-aa666f95dc7e"
      },
      "outputs": [
        {
          "data": {
            "image/png": "[encoded data removed]",
            "text/plain": [
              "<Figure size 432x288 with 1 Axes>"
            ]
          },
          "metadata": {},
          "output_type": "display_data"
        }
      ],
      "source": [
        "plt.plot(fpr, tpr, \"b:\", label=\"SGD\")\n",
        "plot_roc_curve(fpr_forest, tpr_forest, \"Random Forest\")\n",
        "plt.legend(loc=\"lower right\")\n",
        "plt.show()"
      ]
    },
    {
      "cell_type": "code",
      "execution_count": null,
      "metadata": {
        "colab": {
          "base_uri": "https://localhost:8080/"
        },
        "id": "RQuI3h1ULBU5",
        "outputId": "1449cf39-50f3-4977-ea9f-819d02032844"
      },
      "outputs": [
        {
          "data": {
            "text/plain": [
              "0.9993198677023316"
            ]
          },
          "execution_count": 63,
          "metadata": {},
          "output_type": "execute_result"
        }
      ],
      "source": [
        "roc_auc_score(y_train_1, y_scores_forest)"
      ]
    },
    {
      "cell_type": "code",
      "execution_count": null,
      "metadata": {
        "colab": {
          "base_uri": "https://localhost:8080/"
        },
        "id": "Iqz3Eyk8N9dy",
        "outputId": "5f00084b-ad6d-47cd-c9bb-83cdc02f03b5"
      },
      "outputs": [
        {
          "data": {
            "text/plain": [
              "array([1], dtype=uint8)"
            ]
          },
          "execution_count": 64,
          "metadata": {},
          "output_type": "execute_result"
        }
      ],
      "source": [
        "from sklearn.svm import SVC\n",
        "\n",
        "svm_clf = SVC()\n",
        "svm_clf.fit(X_train, y_train) \n",
        "svm_clf.predict([some_digit])"
      ]
    },
    {
      "cell_type": "code",
      "execution_count": null,
      "metadata": {
        "colab": {
          "base_uri": "https://localhost:8080/"
        },
        "id": "jbof85RTLhQW",
        "outputId": "89e11400-79d4-4579-88a0-76a428d09f9c"
      },
      "outputs": [
        {
          "data": {
            "text/plain": [
              "array([[-0.30461154,  9.31250893,  6.25161472,  4.80442191,  4.82807564,\n",
              "         1.72567445,  0.71707527,  8.26892742,  6.28488102,  2.72424781]])"
            ]
          },
          "execution_count": 65,
          "metadata": {},
          "output_type": "execute_result"
        }
      ],
      "source": [
        "some_digit_scores = svm_clf.decision_function([some_digit])\n",
        "some_digit_scores"
      ]
    },
    {
      "cell_type": "code",
      "execution_count": null,
      "metadata": {
        "colab": {
          "base_uri": "https://localhost:8080/"
        },
        "id": "o_Rt6ishLjFy",
        "outputId": "fdf9b508-7d64-4644-f5b9-c9d9ce112e26"
      },
      "outputs": [
        {
          "data": {
            "text/plain": [
              "1"
            ]
          },
          "execution_count": 66,
          "metadata": {},
          "output_type": "execute_result"
        }
      ],
      "source": [
        "np.argmax(some_digit_scores)"
      ]
    },
    {
      "cell_type": "code",
      "execution_count": null,
      "metadata": {
        "colab": {
          "base_uri": "https://localhost:8080/"
        },
        "id": "6m3Zw0JULmtk",
        "outputId": "5cb9d928-6b29-4335-a8ad-e91c14d82636"
      },
      "outputs": [
        {
          "data": {
            "text/plain": [
              "array([0, 1, 2, 3, 4, 5, 6, 7, 8, 9], dtype=uint8)"
            ]
          },
          "execution_count": 67,
          "metadata": {},
          "output_type": "execute_result"
        }
      ],
      "source": [
        "svm_clf.classes_"
      ]
    },
    {
      "cell_type": "code",
      "execution_count": null,
      "metadata": {
        "colab": {
          "base_uri": "https://localhost:8080/"
        },
        "id": "wmxCMl2MLp1D",
        "outputId": "4317a8bf-7e39-4281-d837-6b5c5c2a23ed"
      },
      "outputs": [
        {
          "data": {
            "text/plain": [
              "1"
            ]
          },
          "execution_count": 68,
          "metadata": {},
          "output_type": "execute_result"
        }
      ],
      "source": [
        "svm_clf.classes_[1]"
      ]
    },
    {
      "cell_type": "code",
      "execution_count": null,
      "metadata": {
        "id": "HR36JbERLtcS"
      },
      "outputs": [],
      "source": [
        "# from sklearn.multiclass import OneVsRestClassifier \n",
        "# ovr_clf = OneVsRestClassifier(SVC())\n",
        "# ovr_clf.fit(X_train, y_train)\n",
        "# ovr_clf.predict([some_digit]) "
      ]
    },
    {
      "cell_type": "code",
      "execution_count": null,
      "metadata": {
        "id": "E4tTUu-nk37c"
      },
      "outputs": [],
      "source": [
        "# len(ovr_clf.estimators_)"
      ]
    },
    {
      "cell_type": "code",
      "execution_count": null,
      "metadata": {
        "id": "Yx0jt73Ck45Z"
      },
      "outputs": [],
      "source": [
        "# sgd_clf.fit(X_train, y_train) \n",
        "# sgd_clf.predict([some_digit])"
      ]
    },
    {
      "cell_type": "code",
      "execution_count": null,
      "metadata": {
        "id": "OLo9hw6bk81o"
      },
      "outputs": [],
      "source": [
        "# sgd_clf.decision_function([some_digit])"
      ]
    },
    {
      "cell_type": "code",
      "execution_count": null,
      "metadata": {
        "id": "xwZKZYCKlACu"
      },
      "outputs": [],
      "source": [
        "# cross_val_score(sgd_clf, X_train, y_train, cv=3, scoring=\"accuracy\")"
      ]
    },
    {
      "cell_type": "code",
      "execution_count": null,
      "metadata": {
        "colab": {
          "background_save": true
        },
        "id": "7kU2H-EWlDGR",
        "outputId": "6f0f1dbb-b6f0-4b56-e661-f29b82a4511b"
      },
      "outputs": [
        {
          "data": {
            "text/plain": [
              "array([0.8983, 0.891 , 0.9018])"
            ]
          },
          "execution_count": 74,
          "metadata": {},
          "output_type": "execute_result"
        }
      ],
      "source": [
        "from sklearn.preprocessing import StandardScaler\n",
        "scaler = StandardScaler()\n",
        "X_train_scaled = scaler.fit_transform(X_train.astype(np.float64))\n",
        "cross_val_score(sgd_clf, X_train_scaled, y_train, cv=3, scoring=\"accuracy\")"
      ]
    },
    {
      "cell_type": "code",
      "execution_count": null,
      "metadata": {
        "colab": {
          "background_save": true
        },
        "id": "IVVBlkyKlJ_D",
        "outputId": "b6ca5654-977f-40a9-d8c0-05d8a13f3c90"
      },
      "outputs": [
        {
          "data": {
            "text/plain": [
              "array([[5577,    0,   22,    5,    8,   43,   36,    6,  225,    1],\n",
              "       [   0, 6400,   37,   24,    4,   44,    4,    7,  212,   10],\n",
              "       [  27,   27, 5220,   92,   73,   27,   67,   36,  378,   11],\n",
              "       [  22,   17,  117, 5227,    2,  203,   27,   40,  403,   73],\n",
              "       [  12,   14,   41,    9, 5182,   12,   34,   27,  347,  164],\n",
              "       [  27,   15,   30,  168,   53, 4444,   75,   14,  535,   60],\n",
              "       [  30,   15,   42,    3,   44,   97, 5552,    3,  131,    1],\n",
              "       [  21,   10,   51,   30,   49,   12,    3, 5684,  195,  210],\n",
              "       [  17,   63,   48,   86,    3,  126,   25,   10, 5429,   44],\n",
              "       [  25,   18,   30,   64,  118,   36,    1,  179,  371, 5107]])"
            ]
          },
          "execution_count": 75,
          "metadata": {},
          "output_type": "execute_result"
        }
      ],
      "source": [
        "y_train_pred = cross_val_predict(sgd_clf, X_train_scaled, y_train, cv=3)\n",
        "conf_mx = confusion_matrix(y_train, y_train_pred)\n",
        "conf_mx"
      ]
    },
    {
      "cell_type": "code",
      "execution_count": null,
      "metadata": {
        "colab": {
          "background_save": true
        },
        "id": "Lx63lcsFlRy8",
        "outputId": "05bf586f-c916-474c-fea3-faf5604c2e55"
      },
      "outputs": [
        {
          "data": {
            "image/png": "[encoded data removed]",
            "text/plain": [
              "<Figure size 288x288 with 1 Axes>"
            ]
          },
          "metadata": {},
          "output_type": "display_data"
        }
      ],
      "source": [
        "plt.matshow(conf_mx, cmap=plt.cm.gray)\n",
        "plt.show()\n"
      ]
    },
    {
      "cell_type": "code",
      "execution_count": null,
      "metadata": {
        "colab": {
          "background_save": true
        },
        "id": "SdhzEvEijv21"
      },
      "outputs": [],
      "source": [
        "row_sums = conf_mx.sum(axis=1, keepdims=True)\n",
        "norm_conf_mx = conf_mx / row_sums\n"
      ]
    },
    {
      "cell_type": "code",
      "execution_count": null,
      "metadata": {
        "colab": {
          "background_save": true
        },
        "id": "aqWWYFmWj6TL",
        "outputId": "1be8a53c-3503-4dd4-b173-06bb68c95581"
      },
      "outputs": [
        {
          "data": {
            "image/png": "[encoded data removed]",
            "text/plain": [
              "<Figure size 288x288 with 1 Axes>"
            ]
          },
          "metadata": {},
          "output_type": "display_data"
        }
      ],
      "source": [
        "np.fill_diagonal(norm_conf_mx, 0)\n",
        "plt.matshow(norm_conf_mx, cmap=plt.cm.gray)\n",
        "plt.show()\n"
      ]
    },
    {
      "cell_type": "code",
      "execution_count": null,
      "metadata": {
        "colab": {
          "background_save": true
        },
        "id": "IIrZaed_aQYm"
      },
      "outputs": [],
      "source": [
        "def plot_digit(data):\n",
        "    image = data.reshape(28, 28)\n",
        "    plt.imshow(image, cmap = mpl.cm.binary,\n",
        "               interpolation=\"nearest\")\n",
        "    plt.axis(\"off\")"
      ]
    },
    {
      "cell_type": "code",
      "execution_count": null,
      "metadata": {
        "colab": {
          "background_save": true
        },
        "id": "ImN_t2oWYZ2x"
      },
      "outputs": [],
      "source": [
        "def plot_digits(instances, images_per_row=10, **options):\n",
        "    size = 28\n",
        "    images_per_row = min(len(instances), images_per_row)\n",
        "    # This is equivalent to n_rows = ceil(len(instances) / images_per_row):\n",
        "    n_rows = (len(instances) - 1) // images_per_row + 1\n",
        "\n",
        "    # Append empty images to fill the end of the grid, if needed:\n",
        "    n_empty = n_rows * images_per_row - len(instances)\n",
        "    padded_instances = np.concatenate([instances, np.zeros((n_empty, size * size))], axis=0)\n",
        "\n",
        "    # Reshape the array so it's organized as a grid containing 28×28 images:\n",
        "    image_grid = padded_instances.reshape((n_rows, images_per_row, size, size))\n",
        "\n",
        "    # Combine axes 0 and 2 (vertical image grid axis, and vertical image axis),\n",
        "    # and axes 1 and 3 (horizontal axes). We first need to move the axes that we\n",
        "    # want to combine next to each other, using transpose(), and only then we\n",
        "    # can reshape:\n",
        "    big_image = image_grid.transpose(0, 2, 1, 3).reshape(n_rows * size,\n",
        "                                                         images_per_row * size)\n",
        "    # Now that we have a big image, we just need to show it:\n",
        "    plt.imshow(big_image, cmap = mpl.cm.binary, **options)\n",
        "    plt.axis(\"off\")"
      ]
    },
    {
      "cell_type": "code",
      "execution_count": null,
      "metadata": {
        "colab": {
          "background_save": true
        },
        "id": "_mGSxSDTk-dF",
        "outputId": "c1194c87-371d-4e7f-b178-a2c7db7ba80e"
      },
      "outputs": [
        {
          "data": {
            "image/png": "[encoded data removed]",
            "text/plain": [
              "<Figure size 576x576 with 4 Axes>"
            ]
          },
          "metadata": {},
          "output_type": "display_data"
        }
      ],
      "source": [
        "cl_a, cl_b = 1, 2\n",
        "X_aa = X_train[(y_train == cl_a) & (y_train_pred == cl_a)]\n",
        "X_ab = X_train[(y_train == cl_a) & (y_train_pred == cl_b)]\n",
        "X_ba = X_train[(y_train == cl_b) & (y_train_pred == cl_a)]\n",
        "X_bb = X_train[(y_train == cl_b) & (y_train_pred == cl_b)]\n",
        "plt.figure(figsize=(8,8))\n",
        "plt.subplot(221); plot_digits(X_aa[:25], images_per_row=5)\n",
        "plt.subplot(222); plot_digits(X_ab[:25], images_per_row=5)\n",
        "plt.subplot(223); plot_digits(X_ba[:25], images_per_row=5)\n",
        "plt.subplot(224); plot_digits(X_bb[:25], images_per_row=5)\n",
        "plt.show()\n"
      ]
    },
    {
      "cell_type": "code",
      "execution_count": null,
      "metadata": {
        "colab": {
          "background_save": true
        },
        "id": "gx_wnp5flM1k"
      },
      "outputs": [],
      "source": [
        "from sklearn.neighbors import KNeighborsClassifier\n"
      ]
    },
    {
      "cell_type": "code",
      "execution_count": null,
      "metadata": {
        "colab": {
          "background_save": true
        },
        "id": "sHUezzsulNjt"
      },
      "outputs": [],
      "source": [
        "y_train_large = (y_train >= 7)\n",
        "y_train_odd = (y_train % 2 == 1)\n",
        "y_multilabel = np.c_[y_train_large, y_train_odd]\n"
      ]
    },
    {
      "cell_type": "code",
      "execution_count": null,
      "metadata": {
        "colab": {
          "background_save": true
        },
        "id": "t-Js_s17lSC0",
        "outputId": "7002cf9c-38da-48a5-971d-fc8ffaeb25db"
      },
      "outputs": [
        {
          "data": {
            "text/plain": [
              "KNeighborsClassifier()"
            ]
          },
          "execution_count": 84,
          "metadata": {},
          "output_type": "execute_result"
        }
      ],
      "source": [
        "knn_clf = KNeighborsClassifier()\n",
        "knn_clf.fit(X_train, y_multilabel)"
      ]
    },
    {
      "cell_type": "code",
      "execution_count": null,
      "metadata": {
        "colab": {
          "background_save": true
        },
        "id": "Y9ZnEPJqneKz",
        "outputId": "37e7e008-f015-481d-b920-79dae72ea4b7"
      },
      "outputs": [
        {
          "data": {
            "text/plain": [
              "array([[False,  True]])"
            ]
          },
          "execution_count": 85,
          "metadata": {},
          "output_type": "execute_result"
        }
      ],
      "source": [
        "knn_clf.predict([some_digit])"
      ]
    },
    {
      "cell_type": "code",
      "execution_count": null,
      "metadata": {
        "colab": {
          "background_save": true
        },
        "id": "1vQDbUaanh73",
        "outputId": "ba3c8558-839e-49e6-bcd6-8124b35839aa"
      },
      "outputs": [
        {
          "data": {
            "text/plain": [
              "0.976410265560605"
            ]
          },
          "execution_count": 86,
          "metadata": {},
          "output_type": "execute_result"
        }
      ],
      "source": [
        "y_train_knn_pred = cross_val_predict(knn_clf, X_train, y_multilabel, cv=3) \n",
        "f1_score(y_multilabel, y_train_knn_pred, average=\"macro\")"
      ]
    },
    {
      "cell_type": "code",
      "execution_count": null,
      "metadata": {
        "colab": {
          "background_save": true
        },
        "id": "N3uarljAnlSt"
      },
      "outputs": [],
      "source": [
        "noise = np.random.randint(0, 100, (len(X_train), 784))\n",
        "X_train_mod = X_train + noise\n",
        "noise = np.random.randint(0, 100, (len(X_test), 784))\n",
        "X_test_mod = X_test + noise\n",
        "y_train_mod = X_train\n",
        "y_test_mod = X_test\n"
      ]
    },
    {
      "cell_type": "code",
      "execution_count": null,
      "metadata": {
        "colab": {
          "background_save": true
        },
        "id": "3D6Bioo7aDS4",
        "outputId": "d3e9e72c-f59c-45a1-96af-cf1ceb15c5de"
      },
      "outputs": [
        {
          "data": {
            "image/png": "[encoded data removed]",
            "text/plain": [
              "<Figure size 432x288 with 2 Axes>"
            ]
          },
          "metadata": {},
          "output_type": "display_data"
        }
      ],
      "source": [
        "some_index = 2\n",
        "plt.subplot(121); plot_digit(X_test_mod[some_index])\n",
        "plt.subplot(122); plot_digit(y_test_mod[some_index])\n",
        "# save_fig(\"noisy_digit_example_plot\")\n",
        "plt.show()"
      ]
    },
    {
      "cell_type": "code",
      "execution_count": null,
      "metadata": {
        "colab": {
          "background_save": true
        },
        "id": "HD1E1ZEdnqDV",
        "outputId": "55b3fa02-6fb6-4908-e0f9-e879922f6b82"
      },
      "outputs": [
        {
          "data": {
            "image/png": "[encoded data removed]",
            "text/plain": [
              "<Figure size 432x288 with 1 Axes>"
            ]
          },
          "metadata": {},
          "output_type": "display_data"
        }
      ],
      "source": [
        "knn_clf.fit(X_train_mod, y_train_mod)\n",
        "clean_digit = knn_clf.predict([X_test_mod[some_index]])\n",
        "plot_digit(clean_digit)\n"
      ]
    },
    {
      "cell_type": "markdown",
      "source": [
        "**Exercise 1**\n",
        "\n",
        "\n",
        "\n"
      ],
      "metadata": {
        "id": "v8bYGkOd_50r"
      }
    },
    {
      "cell_type": "code",
      "execution_count": 99,
      "metadata": {
        "id": "afOS7Zf7W7Re",
        "colab": {
          "base_uri": "https://localhost:8080/",
          "height": 0
        },
        "outputId": "60c30e0c-8789-4860-9761-35b15f37cf8a"
      },
      "outputs": [
        {
          "output_type": "stream",
          "name": "stdout",
          "text": [
            "Fitting 2 folds for each of 6 candidates, totalling 12 fits\n",
            "[CV 1/2] END ....n_neighbors=3, weights=uniform;, score=0.966 total time= 1.6min\n",
            "[CV 2/2] END ....n_neighbors=3, weights=uniform;, score=0.965 total time= 1.2min\n",
            "[CV 1/2] END ...n_neighbors=3, weights=distance;, score=0.967 total time= 1.2min\n",
            "[CV 2/2] END ...n_neighbors=3, weights=distance;, score=0.966 total time= 1.1min\n",
            "[CV 1/2] END ....n_neighbors=5, weights=uniform;, score=0.963 total time= 1.2min\n",
            "[CV 2/2] END ....n_neighbors=5, weights=uniform;, score=0.964 total time= 1.1min\n",
            "[CV 1/2] END ...n_neighbors=5, weights=distance;, score=0.965 total time= 1.2min\n",
            "[CV 2/2] END ...n_neighbors=5, weights=distance;, score=0.966 total time= 1.2min\n",
            "[CV 1/2] END ....n_neighbors=7, weights=uniform;, score=0.962 total time= 1.2min\n",
            "[CV 2/2] END ....n_neighbors=7, weights=uniform;, score=0.963 total time= 1.2min\n",
            "[CV 1/2] END ...n_neighbors=7, weights=distance;, score=0.963 total time= 1.2min\n",
            "[CV 2/2] END ...n_neighbors=7, weights=distance;, score=0.964 total time= 1.4min\n"
          ]
        },
        {
          "output_type": "execute_result",
          "data": {
            "text/plain": [
              "GridSearchCV(cv=2, estimator=KNeighborsClassifier(),\n",
              "             param_grid=[{'n_neighbors': [3, 5, 7],\n",
              "                          'weights': ['uniform', 'distance']}],\n",
              "             verbose=3)"
            ]
          },
          "metadata": {},
          "execution_count": 99
        }
      ],
      "source": [
        "from sklearn.model_selection import GridSearchCV\n",
        "\n",
        "param_grid = [{'weights': [\"uniform\", \"distance\"], 'n_neighbors': [3, 5, 7]}]\n",
        "\n",
        "knn_clf = KNeighborsClassifier()\n",
        "grid_search = GridSearchCV(knn_clf, param_grid, cv=2, verbose=3)\n",
        "grid_search.fit(X_train, y_train)\n"
      ]
    },
    {
      "cell_type": "code",
      "execution_count": 101,
      "metadata": {
        "id": "D2V6PHXvXNC9",
        "colab": {
          "base_uri": "https://localhost:8080/",
          "height": 0
        },
        "outputId": "7b65dbc5-874d-46c0-f850-bffec9f0478b"
      },
      "outputs": [
        {
          "output_type": "execute_result",
          "data": {
            "text/plain": [
              "{'n_neighbors': 3, 'weights': 'distance'}"
            ]
          },
          "metadata": {},
          "execution_count": 101
        }
      ],
      "source": [
        "grid_search.best_params_\n"
      ]
    },
    {
      "cell_type": "code",
      "execution_count": 102,
      "metadata": {
        "id": "qttQV13zXaar",
        "colab": {
          "base_uri": "https://localhost:8080/",
          "height": 0
        },
        "outputId": "155a0376-7b96-44b5-c99a-098302ba45d7"
      },
      "outputs": [
        {
          "output_type": "execute_result",
          "data": {
            "text/plain": [
              "0.96625"
            ]
          },
          "metadata": {},
          "execution_count": 102
        }
      ],
      "source": [
        "grid_search.best_score_"
      ]
    },
    {
      "cell_type": "code",
      "execution_count": 103,
      "metadata": {
        "id": "WNZgFeqMXcU_",
        "colab": {
          "base_uri": "https://localhost:8080/",
          "height": 0
        },
        "outputId": "e1354e28-0d5c-40df-c767-22dc9841b802"
      },
      "outputs": [
        {
          "output_type": "execute_result",
          "data": {
            "text/plain": [
              "0.9717"
            ]
          },
          "metadata": {},
          "execution_count": 103
        }
      ],
      "source": [
        "from sklearn.metrics import accuracy_score\n",
        "\n",
        "y_pred = grid_search.predict(X_test)\n",
        "accuracy_score(y_test, y_pred)"
      ]
    },
    {
      "cell_type": "code",
      "execution_count": 104,
      "metadata": {
        "id": "q_mBFpMPdMYD"
      },
      "outputs": [],
      "source": [
        "#2.\n",
        "from scipy.ndimage.interpolation import shift"
      ]
    },
    {
      "cell_type": "code",
      "execution_count": 105,
      "metadata": {
        "id": "e69jhCyEdiH3"
      },
      "outputs": [],
      "source": [
        "def shift_image(image, dx, dy):\n",
        "    image = image.reshape((28, 28))\n",
        "    shifted_image = shift(image, [dy, dx], cval=0, mode=\"constant\")\n",
        "    return shifted_image.reshape([-1])"
      ]
    },
    {
      "cell_type": "code",
      "execution_count": 108,
      "metadata": {
        "id": "Xj0TrH9EsyU8",
        "colab": {
          "base_uri": "https://localhost:8080/",
          "height": 228
        },
        "outputId": "6c71b06b-04af-4b02-851f-a4da045b490b"
      },
      "outputs": [
        {
          "output_type": "display_data",
          "data": {
            "text/plain": [
              "<Figure size 864x216 with 3 Axes>"
            ],
            "image/png": "[encoded data removed]"
          },
          "metadata": {
            "needs_background": "light"
          }
        }
      ],
      "source": [
        "image = X_train[1002]\n",
        "shifted_image_down = shift_image(image, 0, 1)\n",
        "shifted_image_left = shift_image(image, -1, 0)\n",
        "\n",
        "plt.figure(figsize=(12,3))\n",
        "plt.subplot(131)\n",
        "plt.title(\"Original\", fontsize=14)\n",
        "plt.imshow(image.reshape(28, 28), interpolation=\"nearest\", cmap=\"Greys\")\n",
        "plt.subplot(132)\n",
        "plt.title(\"Shifted down\", fontsize=14)\n",
        "plt.imshow(shifted_image_down.reshape(28, 28), interpolation=\"nearest\", cmap=\"Greys\")\n",
        "plt.subplot(133)\n",
        "plt.title(\"Shifted left\", fontsize=14)\n",
        "plt.imshow(image.reshape(28, 28), interpolation=\"nearest\", cmap=\"Greys\")\n",
        "plt.imshow(shifted_image_left.reshape(28, 28), interpolation=\"nearest\", cmap=\"Greys\")\n",
        "plt.show()"
      ]
    },
    {
      "cell_type": "code",
      "execution_count": 109,
      "metadata": {
        "id": "QAXK_p5Bdu_N"
      },
      "outputs": [],
      "source": [
        "X_train_augmented = [image for image in X_train]\n",
        "y_train_augmented = [label for label in y_train]\n",
        "\n",
        "for dx, dy in ((1, 0), (-1, 0), (0, 1), (0, -1)):\n",
        "    for image, label in zip(X_train, y_train):\n",
        "        X_train_augmented.append(shift_image(image, dx, dy))\n",
        "        y_train_augmented.append(label)\n",
        "\n",
        "X_train_augmented = np.array(X_train_augmented)\n",
        "y_train_augmented = np.array(y_train_augmented)"
      ]
    },
    {
      "cell_type": "code",
      "execution_count": 110,
      "metadata": {
        "id": "jg7Dr-DNdvlQ"
      },
      "outputs": [],
      "source": [
        "shuffle_idx = np.random.permutation(len(X_train_augmented))\n",
        "X_train_augmented = (X_train_augmented)[shuffle_idx]\n",
        "y_train_augmented = (y_train_augmented)[shuffle_idx]"
      ]
    },
    {
      "cell_type": "code",
      "execution_count": 111,
      "metadata": {
        "id": "D98wKaytdyK2"
      },
      "outputs": [],
      "source": [
        "knn_clf = KNeighborsClassifier(**grid_search.best_params_)"
      ]
    },
    {
      "cell_type": "code",
      "execution_count": 112,
      "metadata": {
        "id": "GT1AQh5rd0lw",
        "colab": {
          "base_uri": "https://localhost:8080/",
          "height": 0
        },
        "outputId": "6cef26c3-5108-477f-ee27-d144d954d1ff"
      },
      "outputs": [
        {
          "output_type": "execute_result",
          "data": {
            "text/plain": [
              "KNeighborsClassifier(n_neighbors=3, weights='distance')"
            ]
          },
          "metadata": {},
          "execution_count": 112
        }
      ],
      "source": [
        "knn_clf.fit(X_train_augmented, y_train_augmented)"
      ]
    },
    {
      "cell_type": "code",
      "execution_count": 114,
      "metadata": {
        "id": "sfW7zcBslGFj",
        "colab": {
          "base_uri": "https://localhost:8080/",
          "height": 0
        },
        "outputId": "9eaaedad-7831-4a18-c85f-646ffbcb8cdf"
      },
      "outputs": [
        {
          "output_type": "execute_result",
          "data": {
            "text/plain": [
              "0.9763"
            ]
          },
          "metadata": {},
          "execution_count": 114
        }
      ],
      "source": [
        "y_pred = knn_clf.predict(X_test)\n",
        "accuracy_score(y_test, y_pred)"
      ]
    },
    {
      "cell_type": "code",
      "source": [
        "from sklearn.metrics import recall_score, precision_score, f1_score\n",
        "print(f'Precision: {precision_score(y_test, y_pred, average=\"micro\")}')\n",
        "print(f'Recall: {recall_score(y_test, y_pred, average=\"micro\")}')\n",
        "print(f'F1 score: {f1_score(y_test, y_pred, average=\"micro\")}')"
      ],
      "metadata": {
        "colab": {
          "base_uri": "https://localhost:8080/",
          "height": 0
        },
        "id": "uDiCweHEFHoP",
        "outputId": "9a9ee91e-234b-4ca1-aa77-46237646f950"
      },
      "execution_count": 122,
      "outputs": [
        {
          "output_type": "stream",
          "name": "stdout",
          "text": [
            "Precision: 0.9763\n",
            "Recall: 0.9763\n",
            "F1 score: 0.9762999999999998\n"
          ]
        }
      ]
    }
  ],
  "metadata": {
    "colab": {
      "provenance": []
    },
    "kernelspec": {
      "display_name": "Python 3",
      "name": "python3"
    },
    "language_info": {
      "name": "python"
    }
  },
  "nbformat": 4,
  "nbformat_minor": 0
}